{
 "cells": [
  {
   "cell_type": "markdown",
   "metadata": {},
   "source": [
    "# Bria Stalker\n",
    "## WK2 1/30/2021\n",
    "### Python Formatting Output"
   ]
  },
  {
   "cell_type": "code",
   "execution_count": 1,
   "metadata": {},
   "outputs": [
    {
     "name": "stdout",
     "output_type": "stream",
     "text": [
      "The quick brown fox jumps over the lazy dog\n"
     ]
    }
   ],
   "source": [
    "print(\"The quick brown %s jumps over the lazy dog\" %'fox')"
   ]
  },
  {
   "cell_type": "code",
   "execution_count": 2,
   "metadata": {},
   "outputs": [
    {
     "name": "stdout",
     "output_type": "stream",
     "text": [
      "The quick brown cat jumps over the lazy dog\n"
     ]
    }
   ],
   "source": [
    "print(\"The quick brown %s jumps over the lazy dog\" %'cat')"
   ]
  },
  {
   "cell_type": "code",
   "execution_count": 4,
   "metadata": {},
   "outputs": [
    {
     "name": "stdout",
     "output_type": "stream",
     "text": [
      "The quick brown fox jumps over the lazy dog\n"
     ]
    }
   ],
   "source": [
    "print(\"The quick brown %s jumps over the lazy %s\" %('fox', 'dog'))"
   ]
  },
  {
   "cell_type": "code",
   "execution_count": 5,
   "metadata": {},
   "outputs": [
    {
     "name": "stdout",
     "output_type": "stream",
     "text": [
      "The quick brown dog jumps over the lazy turtle\n"
     ]
    }
   ],
   "source": [
    "print(\"The quick brown %s jumps over the lazy %s\" %('dog', 'turtle'))"
   ]
  },
  {
   "cell_type": "code",
   "execution_count": 7,
   "metadata": {},
   "outputs": [
    {
     "name": "stdout",
     "output_type": "stream",
     "text": [
      "The quick brown fox jumps over the lazy dog\n"
     ]
    }
   ],
   "source": [
    "name1, name2 = 'fox', 'dog'\n",
    "print(\"The quick brown %s jumps over the lazy %s\" %(name1, name2))"
   ]
  },
  {
   "cell_type": "code",
   "execution_count": 8,
   "metadata": {},
   "outputs": [
    {
     "name": "stdout",
     "output_type": "stream",
     "text": [
      "The quick brown 'cat' jumps over the lazy dog\n"
     ]
    }
   ],
   "source": [
    "print(\"The quick brown %r jumps over the lazy dog\" %'cat')"
   ]
  },
  {
   "cell_type": "code",
   "execution_count": 9,
   "metadata": {},
   "outputs": [
    {
     "name": "stdout",
     "output_type": "stream",
     "text": [
      "The quick brown \tcat jumps over the lazy dog\n"
     ]
    }
   ],
   "source": [
    "print(\"The quick brown %s jumps over the lazy dog\" %'\\tcat')"
   ]
  },
  {
   "cell_type": "code",
   "execution_count": 10,
   "metadata": {},
   "outputs": [
    {
     "name": "stdout",
     "output_type": "stream",
     "text": [
      "My score is 98.88 in CIS310\n"
     ]
    }
   ],
   "source": [
    "# Formatting numbers\n",
    "print('My score is %s in CIS310' %98.88)"
   ]
  },
  {
   "cell_type": "code",
   "execution_count": 11,
   "metadata": {},
   "outputs": [
    {
     "name": "stdout",
     "output_type": "stream",
     "text": [
      "My score is 98 in CIS310\n"
     ]
    }
   ],
   "source": [
    "#use %s for floating point numbers\n",
    "print('My score is %d in CIS310' %98.88)"
   ]
  },
  {
   "cell_type": "code",
   "execution_count": 12,
   "metadata": {},
   "outputs": [
    {
     "name": "stdout",
     "output_type": "stream",
     "text": [
      "My score is 98.88 in CIS310\n"
     ]
    }
   ],
   "source": [
    "print('My score is %5.2f in CIS310' %98.88)"
   ]
  },
  {
   "cell_type": "code",
   "execution_count": 13,
   "metadata": {},
   "outputs": [
    {
     "name": "stdout",
     "output_type": "stream",
     "text": [
      "My score is 98.88 in CIS310\n"
     ]
    }
   ],
   "source": [
    "print('My score is %2.2f in CIS310' %98.88)"
   ]
  },
  {
   "cell_type": "code",
   "execution_count": 14,
   "metadata": {},
   "outputs": [
    {
     "name": "stdout",
     "output_type": "stream",
     "text": [
      "My score is 98.8800 in CIS310\n"
     ]
    }
   ],
   "source": [
    "#the number after the decimal before the f will show the amount of decimal locations\n",
    "print('My score is %5.4f in CIS310' %98.88)"
   ]
  },
  {
   "cell_type": "code",
   "execution_count": 16,
   "metadata": {},
   "outputs": [
    {
     "name": "stdout",
     "output_type": "stream",
     "text": [
      "My score is      98.88 in CIS310\n"
     ]
    }
   ],
   "source": [
    "#the number before decimal place shows how much white space will be shown\n",
    "print('My score is %10.2f in CIS310' %(98.88))"
   ]
  },
  {
   "cell_type": "code",
   "execution_count": 17,
   "metadata": {},
   "outputs": [],
   "source": [
    "import webbrowser"
   ]
  },
  {
   "cell_type": "code",
   "execution_count": 18,
   "metadata": {},
   "outputs": [
    {
     "data": {
      "text/plain": [
       "True"
      ]
     },
     "execution_count": 18,
     "metadata": {},
     "output_type": "execute_result"
    }
   ],
   "source": [
    "# This link has info on formatting\n",
    "webbrowser.open('https://docs.python.org/3/library/stdtypes.html#old-string-formatting')"
   ]
  },
  {
   "cell_type": "code",
   "execution_count": 2,
   "metadata": {},
   "outputs": [
    {
     "name": "stdout",
     "output_type": "stream",
     "text": [
      "I am using the general purpose langauge Python to do data analytics\n"
     ]
    }
   ],
   "source": [
    "# Formatting with the .format() method\n",
    "print('I am using the general purpose langauge {} to do data analytics'.format('Python'))"
   ]
  },
  {
   "cell_type": "code",
   "execution_count": 4,
   "metadata": {},
   "outputs": [
    {
     "name": "stdout",
     "output_type": "stream",
     "text": [
      "The quick brown fox jumps over the lazy dog\n"
     ]
    }
   ],
   "source": [
    "# Insertion through index positions\n",
    "print('The {0} {1} fox jumps over the {3} {2}'.format('quick', 'brown', 'dog', 'lazy'))"
   ]
  },
  {
   "cell_type": "code",
   "execution_count": 9,
   "metadata": {},
   "outputs": [],
   "source": [
    "name1, name2 = 'quick', 'dog'"
   ]
  },
  {
   "cell_type": "code",
   "execution_count": 10,
   "metadata": {},
   "outputs": [
    {
     "name": "stdout",
     "output_type": "stream",
     "text": [
      "The quick brown fox jumps over the lazy dog\n"
     ]
    }
   ],
   "source": [
    "print('The {0} {1} fox jumps over the {3} {2}'.format(name1, 'brown', name2, 'lazy'))"
   ]
  },
  {
   "cell_type": "code",
   "execution_count": 18,
   "metadata": {},
   "outputs": [
    {
     "name": "stdout",
     "output_type": "stream",
     "text": [
      "Food     | Calories \n",
      "Apples   | 90       \n",
      "Carrots  | 30       \n",
      "Almonds  | 110      \n"
     ]
    }
   ],
   "source": [
    "#Create tables...0 and 1 are index and 8 and 9 are the number of spaces in\n",
    "print('{0:8} | {1:9}'. format('Food', 'Calories'))\n",
    "print('{0:8} | {1:9}'. format('Apples', '90'))\n",
    "print('{0:8} | {1:9}'. format('Carrots', '30'))\n",
    "print('{0:8} | {1:9}'. format('Almonds', '110'))"
   ]
  },
  {
   "cell_type": "code",
   "execution_count": 22,
   "metadata": {},
   "outputs": [
    {
     "name": "stdout",
     "output_type": "stream",
     "text": [
      "Food     | Calories \n",
      "Apples   | 90       \n",
      "Carrots  | 30       \n",
      "Almonds  | 110      \n"
     ]
    }
   ],
   "source": [
    "print('{F:8} | {C:9}'. format(F = 'Food', C = 'Calories'))\n",
    "print('{0:8} | {1:9}'. format('Apples', '90'))\n",
    "print('{0:8} | {1:9}'. format('Carrots', '30'))\n",
    "print('{0:8} | {1:9}'. format('Almonds', '110'))"
   ]
  },
  {
   "cell_type": "code",
   "execution_count": 25,
   "metadata": {},
   "outputs": [
    {
     "name": "stdout",
     "output_type": "stream",
     "text": [
      "My GPA is  3.99\n"
     ]
    }
   ],
   "source": [
    "gpa = 3.99\n",
    "print(\"My GPA is {0:5.2f}\". format(gpa))"
   ]
  },
  {
   "cell_type": "code",
   "execution_count": 28,
   "metadata": {},
   "outputs": [
    {
     "name": "stdout",
     "output_type": "stream",
     "text": [
      "My Grade is   4.0\n"
     ]
    }
   ],
   "source": [
    "g = 3.99\n",
    "print(\"My Grade is {0:5.1f}\". format(g))"
   ]
  },
  {
   "cell_type": "code",
   "execution_count": 30,
   "metadata": {},
   "outputs": [
    {
     "name": "stdout",
     "output_type": "stream",
     "text": [
      "Dr.Abdunabi teachers CIS310 and CIS350 in Fall 2020\n"
     ]
    }
   ],
   "source": [
    "# f-strings\n",
    "name = 'Dr.Abdunabi'\n",
    "teach = 'Fall 2020'\n",
    "print(f\"{name} teaches CIS310 and CIS350 in {teach}\")"
   ]
  },
  {
   "cell_type": "code",
   "execution_count": 31,
   "metadata": {},
   "outputs": [
    {
     "name": "stdout",
     "output_type": "stream",
     "text": [
      "Dr.Abdunabi teaches CIS310 and CIS350 in 'Fall 2020'\n"
     ]
    }
   ],
   "source": [
    "#!r to get the string representation...!r adds single quote to statement/variable\n",
    "name = 'Dr.Abdunabi'\n",
    "teach = 'Fall 2020'\n",
    "print(f\"{name} teaches CIS310 and CIS350 in {teach!r}\")"
   ]
  },
  {
   "cell_type": "code",
   "execution_count": 32,
   "metadata": {},
   "outputs": [],
   "source": [
    "# numbers\n",
    "radius = 2.5\n",
    "area = (radius**2) * 2.1415"
   ]
  },
  {
   "cell_type": "code",
   "execution_count": 40,
   "metadata": {},
   "outputs": [
    {
     "name": "stdout",
     "output_type": "stream",
     "text": [
      "The area for the radius 2.50 is 13.38438\n"
     ]
    }
   ],
   "source": [
    "print(f\"The area for the radius {radius:2.2f} is {area:2.5f}\")"
   ]
  },
  {
   "cell_type": "code",
   "execution_count": 42,
   "metadata": {},
   "outputs": [
    {
     "data": {
      "text/plain": [
       "True"
      ]
     },
     "execution_count": 42,
     "metadata": {},
     "output_type": "execute_result"
    }
   ],
   "source": [
    "#link has info on f-strings\n",
    "import webbrowser\n",
    "webbrowser.open('https://docs.python.org/3/reference/lexical_analysis.html#f-strings')"
   ]
  },
  {
   "cell_type": "code",
   "execution_count": 43,
   "metadata": {},
   "outputs": [
    {
     "name": "stdout",
     "output_type": "stream",
     "text": [
      "3.15\n",
      "a = 3.15\n"
     ]
    }
   ],
   "source": [
    "#Get user input\n",
    "a = input()\n",
    "print(f\"a = {a}\")\n"
   ]
  },
  {
   "cell_type": "code",
   "execution_count": 44,
   "metadata": {},
   "outputs": [
    {
     "name": "stdout",
     "output_type": "stream",
     "text": [
      "45.5\n",
      "Number = 45.5\n"
     ]
    }
   ],
   "source": [
    "num = input()\n",
    "print(\"Number = {}\".format(num))"
   ]
  },
  {
   "cell_type": "code",
   "execution_count": 45,
   "metadata": {},
   "outputs": [],
   "source": [
    "#Python casting using INT\n",
    "x = int(1) # x will equal 1\n",
    "y = int(2.8) #y will equal 2\n",
    "z = int(\"3\") #z will equal 3"
   ]
  },
  {
   "cell_type": "code",
   "execution_count": 46,
   "metadata": {},
   "outputs": [
    {
     "name": "stdout",
     "output_type": "stream",
     "text": [
      "1 2 3\n"
     ]
    }
   ],
   "source": [
    "print(x,y,z)"
   ]
  },
  {
   "cell_type": "code",
   "execution_count": 47,
   "metadata": {},
   "outputs": [],
   "source": [
    "#Python catsing using FLOAT\n",
    "x = float(1) # x equals 1.0\n",
    "y = float(2.8) # y equals 2.8\n",
    "z = float(\"3\") # z equals 3.0\n",
    "w = float(\"4.2\") # w equals 4.2"
   ]
  },
  {
   "cell_type": "code",
   "execution_count": 48,
   "metadata": {},
   "outputs": [
    {
     "name": "stdout",
     "output_type": "stream",
     "text": [
      "1.0 2.8 3.0 4.2\n"
     ]
    }
   ],
   "source": [
    "print(x,y,z,w)"
   ]
  },
  {
   "cell_type": "code",
   "execution_count": 49,
   "metadata": {},
   "outputs": [],
   "source": [
    "#Python catsing using STRING\n",
    "x = str('CIS') # x equals CIS\n",
    "y = str(2) # y equals 2\n",
    "z = str(4.5) # z equals 4.5"
   ]
  },
  {
   "cell_type": "code",
   "execution_count": 50,
   "metadata": {},
   "outputs": [
    {
     "name": "stdout",
     "output_type": "stream",
     "text": [
      "CIS 2 4.5\n"
     ]
    }
   ],
   "source": [
    "print(x,y,z)"
   ]
  },
  {
   "cell_type": "code",
   "execution_count": 51,
   "metadata": {},
   "outputs": [
    {
     "data": {
      "text/plain": [
       "'CIS'"
      ]
     },
     "execution_count": 51,
     "metadata": {},
     "output_type": "execute_result"
    }
   ],
   "source": [
    "x"
   ]
  },
  {
   "cell_type": "code",
   "execution_count": 52,
   "metadata": {},
   "outputs": [
    {
     "data": {
      "text/plain": [
       "'2'"
      ]
     },
     "execution_count": 52,
     "metadata": {},
     "output_type": "execute_result"
    }
   ],
   "source": [
    "y"
   ]
  },
  {
   "cell_type": "code",
   "execution_count": 53,
   "metadata": {},
   "outputs": [
    {
     "data": {
      "text/plain": [
       "'4.5'"
      ]
     },
     "execution_count": 53,
     "metadata": {},
     "output_type": "execute_result"
    }
   ],
   "source": [
    "z"
   ]
  },
  {
   "cell_type": "code",
   "execution_count": null,
   "metadata": {},
   "outputs": [],
   "source": []
  }
 ],
 "metadata": {
  "kernelspec": {
   "display_name": "Python 3.7 - default",
   "language": "python",
   "name": "py37_default"
  },
  "language_info": {
   "codemirror_mode": {
    "name": "ipython",
    "version": 3
   },
   "file_extension": ".py",
   "mimetype": "text/x-python",
   "name": "python",
   "nbconvert_exporter": "python",
   "pygments_lexer": "ipython3",
   "version": "3.7.7"
  }
 },
 "nbformat": 4,
 "nbformat_minor": 4
}
