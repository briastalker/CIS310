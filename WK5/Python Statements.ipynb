{
 "cells": [
  {
   "cell_type": "markdown",
   "metadata": {},
   "source": [
    "# Bria Stalker\n",
    "## WK5 2/15/2021\n",
    "### Python Statements (if, else, elis)"
   ]
  },
  {
   "cell_type": "code",
   "execution_count": 1,
   "metadata": {},
   "outputs": [
    {
     "name": "stdout",
     "output_type": "stream",
     "text": [
      "It was correct\n"
     ]
    }
   ],
   "source": [
    "if True:\n",
    "    print(\"It was correct\")"
   ]
  },
  {
   "cell_type": "code",
   "execution_count": 2,
   "metadata": {},
   "outputs": [
    {
     "name": "stdout",
     "output_type": "stream",
     "text": [
      "Hi five!\n"
     ]
    }
   ],
   "source": [
    "value = 5\n",
    "\n",
    "if value == 5:\n",
    "    print(\"Hi five!\")\n",
    "else:\n",
    "    print(\"Try again!\")"
   ]
  },
  {
   "cell_type": "code",
   "execution_count": 3,
   "metadata": {},
   "outputs": [
    {
     "name": "stdout",
     "output_type": "stream",
     "text": [
      "Try again!\n"
     ]
    }
   ],
   "source": [
    "value = 4\n",
    "\n",
    "if value == 5:\n",
    "    print(\"Hi five!\")\n",
    "else:\n",
    "    print(\"Try again!\")"
   ]
  },
  {
   "cell_type": "code",
   "execution_count": 4,
   "metadata": {},
   "outputs": [
    {
     "name": "stdout",
     "output_type": "stream",
     "text": [
      "You made redo test2\n"
     ]
    }
   ],
   "source": [
    "test1 = 98\n",
    "test2 = 87\n",
    "\n",
    "if test1 > test2:\n",
    "    print(\"You made redo test2\")"
   ]
  },
  {
   "cell_type": "code",
   "execution_count": 5,
   "metadata": {},
   "outputs": [
    {
     "name": "stdout",
     "output_type": "stream",
     "text": [
      "Redo test1\n"
     ]
    }
   ],
   "source": [
    "test1 = 98\n",
    "test2 = 87\n",
    "#Indentation is REQUIRED\n",
    "if test1 < test2:\n",
    "    print(\"You made redo test2\")\n",
    "else:\n",
    "    print(\"Redo test1\")"
   ]
  },
  {
   "cell_type": "code",
   "execution_count": 6,
   "metadata": {},
   "outputs": [
    {
     "ename": "IndentationError",
     "evalue": "expected an indented block (<ipython-input-6-015a3f8ddde7>, line 2)",
     "output_type": "error",
     "traceback": [
      "\u001b[1;36m  File \u001b[1;32m\"<ipython-input-6-015a3f8ddde7>\"\u001b[1;36m, line \u001b[1;32m2\u001b[0m\n\u001b[1;33m    print(\"You made redo test2\")\u001b[0m\n\u001b[1;37m        ^\u001b[0m\n\u001b[1;31mIndentationError\u001b[0m\u001b[1;31m:\u001b[0m expected an indented block\n"
     ]
    }
   ],
   "source": [
    "if test1 < test2:\n",
    "print(\"You made redo test2\")"
   ]
  },
  {
   "cell_type": "code",
   "execution_count": null,
   "metadata": {},
   "outputs": [],
   "source": [
    "if test1 > test2:\n",
    "    print(\"test1 is greater than test2\")\n",
    "    print(\"You might redo test2\")\n",
    "elif test2 > test1:\n",
    "    print(\"test2 is greater than test1\")\n",
    "    print(\"You might redo test1\")\n",
    "else:\n",
    "    print(\"test1 and test2 are equal\")"
   ]
  },
  {
   "cell_type": "code",
   "execution_count": null,
   "metadata": {},
   "outputs": [],
   "source": [
    "test1 = 92\n",
    "test2 = 90\n",
    "\n",
    "if test1 > test2:\n",
    "    print(\"test1 is greater than test2\")\n",
    "    print(\"You might redo test2\")\n",
    "elif test2 > test1:\n",
    "    print(\"test2 is greater than test1\")\n",
    "    print(\"You might redo test1\")\n",
    "else:\n",
    "    print(\"test1 and test2 are equal\")"
   ]
  },
  {
   "cell_type": "code",
   "execution_count": null,
   "metadata": {},
   "outputs": [],
   "source": [
    "#short hand IF\n",
    "if test1 > test2: print(\"test1 greater than test2\")"
   ]
  },
  {
   "cell_type": "code",
   "execution_count": null,
   "metadata": {},
   "outputs": [],
   "source": [
    "#short hand IF ELSE\n",
    "print(\"test1 greater than test2\") if test1 > test2 else print(\"test1 greater than test1\")"
   ]
  },
  {
   "cell_type": "code",
   "execution_count": 11,
   "metadata": {},
   "outputs": [
    {
     "name": "stdout",
     "output_type": "stream",
     "text": [
      "Wlecome to Colorado\n"
     ]
    }
   ],
   "source": [
    "s = \"Colorado\"\n",
    "\n",
    "if  s == \"Colorado\":\n",
    "    print('Welcome to Colorado')\n",
    "elif s == \"Florida\":\n",
    "    print('Welcome to Florida')\n",
    "elif s == \"Texas\":\n",
    "     print('Welcome to Texas')\n",
    "else:\n",
    "     print('Wher are you?')\n",
    "        "
   ]
  },
  {
   "cell_type": "code",
   "execution_count": 14,
   "metadata": {},
   "outputs": [
    {
     "name": "stdout",
     "output_type": "stream",
     "text": [
      "Both conditions are true\n"
     ]
    }
   ],
   "source": [
    "#And \n",
    "s1 = 89\n",
    "s2 = 75\n",
    "s3 = 92\n",
    "\n",
    "if s1 > s2 and s3 > s2:\n",
    "    print(\"Both conditions are true\")"
   ]
  },
  {
   "cell_type": "code",
   "execution_count": 15,
   "metadata": {},
   "outputs": [
    {
     "name": "stdout",
     "output_type": "stream",
     "text": [
      "At least one condition is true\n"
     ]
    }
   ],
   "source": [
    "#Or\n",
    "if s1 < s2 or s3 > s2:\n",
    "    print(\"At least one condition is true\")"
   ]
  },
  {
   "cell_type": "code",
   "execution_count": 16,
   "metadata": {},
   "outputs": [
    {
     "name": "stdout",
     "output_type": "stream",
     "text": [
      "Above 40\n",
      "Also above 60\n"
     ]
    }
   ],
   "source": [
    "#Nested if statement\n",
    "s1 = 80\n",
    "\n",
    "if s1 > 40:\n",
    "    print('Above 40')\n",
    "    if s1 > 60:\n",
    "        print('Also above 60')\n",
    "    else:\n",
    "        print('Not above 60')\n",
    "        "
   ]
  },
  {
   "cell_type": "code",
   "execution_count": 17,
   "metadata": {},
   "outputs": [],
   "source": [
    "if s1 > 60:\n",
    "    pass"
   ]
  },
  {
   "cell_type": "code",
   "execution_count": null,
   "metadata": {},
   "outputs": [],
   "source": []
  }
 ],
 "metadata": {
  "kernelspec": {
   "display_name": "Python 3.7 - default",
   "language": "python",
   "name": "py37_default"
  },
  "language_info": {
   "codemirror_mode": {
    "name": "ipython",
    "version": 3
   },
   "file_extension": ".py",
   "mimetype": "text/x-python",
   "name": "python",
   "nbconvert_exporter": "python",
   "pygments_lexer": "ipython3",
   "version": "3.7.7"
  }
 },
 "nbformat": 4,
 "nbformat_minor": 4
}
